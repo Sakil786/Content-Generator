{
 "cells": [
  {
   "cell_type": "markdown",
   "id": "911b3b37-3b29-4833-94f2-bfe47af00c83",
   "metadata": {},
   "source": [
    "# Content Generator"
   ]
  },
  {
   "cell_type": "code",
   "execution_count": null,
   "id": "badf2c2c",
   "metadata": {
    "height": 98
   },
   "outputs": [],
   "source": [
    "# pip install langchain langchain_groq\n",
    "# !pip install langgraph\n",
    "# !pip install langchain langchain_groq langchain_community\n",
    "# !pip install pyowm\n",
    "# ! pip install langgraph-checkpoint-sqlite"
   ]
  },
  {
   "cell_type": "code",
   "execution_count": 1,
   "id": "96e9d8c0",
   "metadata": {
    "height": 30
   },
   "outputs": [],
   "source": [
    "groq_api_key=\"GROQ_API\""
   ]
  },
  {
   "cell_type": "code",
   "execution_count": 2,
   "id": "35a9a091",
   "metadata": {
    "height": 30
   },
   "outputs": [],
   "source": [
    "from langchain_groq import ChatGroq"
   ]
  },
  {
   "cell_type": "code",
   "execution_count": 3,
   "id": "47da2419",
   "metadata": {
    "height": 47
   },
   "outputs": [],
   "source": [
    "model=ChatGroq(groq_api_key=groq_api_key,model_name=\"llama3-groq-70b-8192-tool-use-preview\")"
   ]
  },
  {
   "cell_type": "code",
   "execution_count": 4,
   "id": "d0168aee-bce9-4d60-b827-f86a88187e31",
   "metadata": {
    "height": 149
   },
   "outputs": [],
   "source": [
    "from langgraph.graph import StateGraph, END\n",
    "from typing import TypedDict, Annotated, List\n",
    "import operator\n",
    "from langgraph.checkpoint.sqlite import SqliteSaver\n",
    "from langchain_core.messages import AnyMessage, SystemMessage, HumanMessage, AIMessage, ChatMessage\n",
    "\n",
    "memory = SqliteSaver.from_conn_string(\":memory:\")"
   ]
  },
  {
   "cell_type": "code",
   "execution_count": 5,
   "id": "2589c5b6-6cc2-4594-9a17-dccdcf676054",
   "metadata": {
    "height": 149
   },
   "outputs": [],
   "source": [
    "class AgentState(TypedDict):\n",
    "    task: str\n",
    "    plan: str\n",
    "    draft: str\n",
    "    critique: str\n",
    "    content: List[str]\n",
    "    revision_number: int\n",
    "    max_revisions: int"
   ]
  },
  {
   "cell_type": "code",
   "execution_count": 7,
   "id": "a8f05fb3",
   "metadata": {
    "height": 98
   },
   "outputs": [],
   "source": [
    "OUTLINE_CREATION_PROMPT=\"\"\"You are an expert writer tasked with generating engaging, well-structured content on the topic provided by the user. Create a detailed outline along with content for each section of the essay.\\\n",
    " Include relevant insights, examples, and explanations to provide depth to the subject.\\\n",
    "  The content should be clear, informative, and tailored to the target audience. \\\n",
    "  Ensure that each section flows logically into the next, with smooth transitions, and that the tone matches the intended purpose (e.g., informative, persuasive, or narrative).\"\"\""
   ]
  },
  {
   "cell_type": "code",
   "execution_count": 9,
   "id": "36d39933",
   "metadata": {
    "height": 183
   },
   "outputs": [],
   "source": [
    "COMPOSITION_ASSISTANT_PROMPT = \"\"\"You are a content generation assistant tasked with writing high-quality, engaging content based on the user's request and any provided outlines or topics.\\\n",
    " Generate the best possible content in a well-structured format, ensuring clarity, depth, and relevance.\\\n",
    "  If the user provides feedback or critiques, revise and improve your previous attempts to meet their expectations.\\\n",
    "  Utilize all available information to create content that is informative, coherent, and tailored to the target audience:\n",
    "\n",
    "\n",
    "------\n",
    "\n",
    "{content}\"\"\""
   ]
  },
  {
   "cell_type": "code",
   "execution_count": 11,
   "id": "fdbec9ad",
   "metadata": {
    "height": 81
   },
   "outputs": [],
   "source": [
    "INTROSPECTIVE_ANALYSIS_PROMPT=\"\"\"You are an expert reviewer tasked with evaluating a content submission. Provide constructive critique and detailed recommendations for improving the quality of the content.\\\n",
    " Focus on areas such as length, depth, clarity, style, and structure.\\\n",
    "  Offer actionable suggestions to enhance the content's engagement, coherence, and overall effectiveness, ensuring it meets the intended purpose and audience expectations.\"\"\""
   ]
  },
  {
   "cell_type": "code",
   "execution_count": 13,
   "id": "7c9b1a74",
   "metadata": {
    "height": 64
   },
   "outputs": [],
   "source": [
    "RESEARCH_ACTION_PLAN_PROMPT=\"\"\"You are a research assistant tasked with generating search queries to gather relevant information for writing the given content.\\\n",
    " Create up to three highly effective search queries that will help find accurate and useful data for the topic at hand, ensuring the results provide valuable insights for the content creation process.\"\"\""
   ]
  },
  {
   "cell_type": "code",
   "execution_count": 15,
   "id": "b3db09d5",
   "metadata": {
    "height": 81
   },
   "outputs": [],
   "source": [
    "RESEARCH_ANALYSIS_FEEDBACK_PROMPT= \"\"\"You are a research assistant tasked with generating search queries to support requested revisions for the content outlined below.\\\n",
    " Create up to three targeted search queries that will help gather relevant information to improve and refine the content based on the revision needs.\"\"\"\n"
   ]
  },
  {
   "cell_type": "code",
   "execution_count": 16,
   "id": "dc3293b7-a50c-43c8-a022-8975e1e444b8",
   "metadata": {
    "height": 81
   },
   "outputs": [],
   "source": [
    "from langchain_core.pydantic_v1 import BaseModel\n",
    "\n",
    "class Queries(BaseModel):\n",
    "    queries: List[str]"
   ]
  },
  {
   "cell_type": "code",
   "execution_count": 17,
   "id": "0722c3d4-4cbf-43bf-81b0-50f634c4ce61",
   "metadata": {
    "height": 64
   },
   "outputs": [],
   "source": [
    "from tavily import TavilyClient\n",
    "import os\n",
    "tavily = TavilyClient(api_key=os.environ[\"TAVILY_API_KEY\"])"
   ]
  },
  {
   "cell_type": "code",
   "execution_count": 18,
   "id": "6b2f82fe-3ec4-4917-be51-9fb10d1317fa",
   "metadata": {
    "height": 132
   },
   "outputs": [],
   "source": [
    "def plan_node(state: AgentState):\n",
    "    messages = [\n",
    "        SystemMessage(content=OUTLINE_CREATION_PROMPT), \n",
    "        HumanMessage(content=state['task'])\n",
    "    ]\n",
    "    response = model.invoke(messages)\n",
    "    return {\"plan\": response.content}"
   ]
  },
  {
   "cell_type": "code",
   "execution_count": 19,
   "id": "ee0fe1c7-77e2-499c-a2f9-1f739bb6ddf0",
   "metadata": {
    "height": 200
   },
   "outputs": [],
   "source": [
    "def research_plan_node(state: AgentState):\n",
    "    queries = model.with_structured_output(Queries).invoke([\n",
    "        SystemMessage(content=RESEARCH_ACTION_PLAN_PROMPT),\n",
    "        HumanMessage(content=state['task'])\n",
    "    ])\n",
    "    content = state['content'] or []\n",
    "    for q in queries.queries:\n",
    "        response = tavily.search(query=q, max_results=2)\n",
    "        for r in response['results']:\n",
    "            content.append(r['content'])\n",
    "    return {\"content\": content}"
   ]
  },
  {
   "cell_type": "code",
   "execution_count": 20,
   "id": "98f303b1-a4d0-408c-8cc0-515ff980717f",
   "metadata": {
    "height": 285
   },
   "outputs": [],
   "source": [
    "def generation_node(state: AgentState):\n",
    "    content = \"\\n\\n\".join(state['content'] or [])\n",
    "    user_message = HumanMessage(\n",
    "        content=f\"{state['task']}\\n\\nHere is my plan:\\n\\n{state['plan']}\")\n",
    "    messages = [\n",
    "        SystemMessage(\n",
    "            content=COMPOSITION_ASSISTANT_PROMPT.format(content=content)\n",
    "        ),\n",
    "        user_message\n",
    "        ]\n",
    "    response = model.invoke(messages)\n",
    "    return {\n",
    "        \"draft\": response.content, \n",
    "        \"revision_number\": state.get(\"revision_number\", 1) + 1\n",
    "    }\n"
   ]
  },
  {
   "cell_type": "code",
   "execution_count": 21,
   "id": "bf4dcb93-6298-4cfd-b3ce-61dfac7fb35f",
   "metadata": {
    "height": 132
   },
   "outputs": [],
   "source": [
    "def reflection_node(state: AgentState):\n",
    "    messages = [\n",
    "        SystemMessage(content=INTROSPECTIVE_ANALYSIS_PROMPT), \n",
    "        HumanMessage(content=state['draft'])\n",
    "    ]\n",
    "    response = model.invoke(messages)\n",
    "    return {\"critique\": response.content}"
   ]
  },
  {
   "cell_type": "code",
   "execution_count": 22,
   "id": "932883a4-c722-42bb-aec0-b4f41c5c81a4",
   "metadata": {
    "height": 200
   },
   "outputs": [],
   "source": [
    "def research_critique_node(state: AgentState):\n",
    "    queries = model.with_structured_output(Queries).invoke([\n",
    "        SystemMessage(content=RESEARCH_ANALYSIS_FEEDBACK_PROMPT),\n",
    "        HumanMessage(content=state['critique'])\n",
    "    ])\n",
    "    content = state['content'] or []\n",
    "    for q in queries.queries:\n",
    "        response = tavily.search(query=q, max_results=2)\n",
    "        for r in response['results']:\n",
    "            content.append(r['content'])\n",
    "    return {\"content\": content}"
   ]
  },
  {
   "cell_type": "code",
   "execution_count": 32,
   "id": "ff362f49-dcf1-4ea1-a86c-e516e9ab897d",
   "metadata": {
    "height": 81
   },
   "outputs": [],
   "source": [
    "def should_continue(state):\n",
    "    if state[\"revision_number\"] > state[\"max_revisions\"]:\n",
    "        return END\n",
    "    return \"Introspective Lens\""
   ]
  },
  {
   "cell_type": "code",
   "execution_count": 33,
   "id": "a7e15a20-83d7-434c-8551-bce8dcc32be0",
   "metadata": {
    "height": 30
   },
   "outputs": [],
   "source": [
    "builder = StateGraph(AgentState)"
   ]
  },
  {
   "cell_type": "code",
   "execution_count": 34,
   "id": "54ab2c74-f32e-490c-a85d-932d11444210",
   "metadata": {
    "height": 98
   },
   "outputs": [],
   "source": [
    "builder.add_node(\"Strategic Visionary\", plan_node)\n",
    "builder.add_node(\"Creative Forge\", generation_node)\n",
    "builder.add_node(\"Introspective Lens\", reflection_node)\n",
    "builder.add_node(\"Exploration Blueprint\", research_plan_node)\n",
    "builder.add_node(\"Critical Insight Review\", research_critique_node)"
   ]
  },
  {
   "cell_type": "code",
   "execution_count": 35,
   "id": "a833d3ce-bd31-4319-811d-decff226b970",
   "metadata": {
    "height": 30
   },
   "outputs": [],
   "source": [
    "builder.set_entry_point(\"Strategic Visionary\")"
   ]
  },
  {
   "cell_type": "code",
   "execution_count": 36,
   "id": "76e93cce-6eab-4c7c-ac64-e9993fdb30d6",
   "metadata": {
    "height": 115
   },
   "outputs": [],
   "source": [
    "builder.add_conditional_edges(\n",
    "    \"Creative Forge\", \n",
    "    should_continue, \n",
    "    {END: END, \"Introspective Lens\": \"Introspective Lens\"}\n",
    ")\n"
   ]
  },
  {
   "cell_type": "code",
   "execution_count": 37,
   "id": "fd2d0990-a932-423f-9ff3-5cada58c5f32",
   "metadata": {
    "height": 98
   },
   "outputs": [],
   "source": [
    "builder.add_edge(\"Strategic Visionary\", \"Exploration Blueprint\")\n",
    "builder.add_edge(\"Exploration Blueprint\", \"Creative Forge\")\n",
    "\n",
    "builder.add_edge(\"Introspective Lens\", \"Critical Insight Review\")\n",
    "builder.add_edge(\"Critical Insight Review\", \"Creative Forge\")"
   ]
  },
  {
   "cell_type": "code",
   "execution_count": 38,
   "id": "27cde654-64e2-48bc-80a9-0ed668ccb7dc",
   "metadata": {
    "height": 30
   },
   "outputs": [],
   "source": [
    "graph = builder.compile(checkpointer=memory)"
   ]
  },
  {
   "cell_type": "code",
   "execution_count": 39,
   "id": "4871f644-b131-4065-b7ce-b82c20a41f11",
   "metadata": {
    "height": 64
   },
   "outputs": [
    {
     "data": {
      "image/png": "[encoded data removed]",
      "text/plain": [
       "<IPython.core.display.Image object>"
      ]
     },
     "execution_count": 39,
     "metadata": {},
     "output_type": "execute_result"
    }
   ],
   "source": [
    "from IPython.display import Image\n",
    "\n",
    "Image(graph.get_graph().draw_png())"
   ]
  },
  {
   "cell_type": "code",
   "execution_count": 40,
   "id": "98f3be1d-cc4c-41fa-9863-3e386e88e305",
   "metadata": {
    "height": 132
   },
   "outputs": [
    {
     "name": "stdout",
     "output_type": "stream",
     "text": [
      "{'Strategic Visionary': {'plan': 'I. Introduction\\n\\nAn AI agent is a computer program that acts on behalf of a user or other program to achieve a specific goal. It is designed to perceive its environment and take actions that maximize the probability of success. This essay will explore the concept of an AI agent, its types, and applications in various fields.\\n\\nII. Definition and Characteristics of an AI Agent\\n\\nAn AI agent is a software entity that can be viewed as perceiving its environment and acting upon it. The environment may be the physical world, a user, another program, or a simulated environment. An AI agent has several key characteristics:\\n\\n1. Autonomy: The ability to act independently without the direct intervention of humans or other systems.\\n2. Perception: The ability to perceive its environment through sensors, such as cameras, microphones, or other devices.\\n3. Reasoning: The ability to reason about the current state of the environment and decide what actions to take.\\n4. Action: The ability to affect changes in the environment through effectors, such as actuators, speakers, or displays.\\n\\nIII. Types of AI Agents\\n\\nThere are several types of AI agents, each with different capabilities and applications:\\n\\n1. Simple Reflex Agents: These agents react directly to the current state of their environment without considering future consequences. They are useful for tasks that require immediate action, such as controlling a thermostat.\\n\\n2. Model-Based Reflex Agents: These agents maintain an internal model of the world and use this model to make decisions. They are useful for tasks that require planning and prediction, such as autonomous vehicles.\\n\\n3. Goal-Based Agents: These agents are programmed to achieve specific goals. They are useful for tasks that require long-term planning and problem-solving, such as scheduling software.\\n\\n4. Utility-Based Agents: These agents make decisions based on a utility function that estimates the desirability of each possible state. They are useful for tasks that require optimizing outcomes, such as financial forecasting models.\\n\\n5. Learning Agents: These agents can learn from experience and improve their performance over time. They are useful for tasks that require adaptation to changing environments, such as recommendation systems.\\n\\nIV. Applications of AI Agents\\n\\nAI agents have numerous applications across various fields, including:\\n\\n1. Robotics: AI agents are used in robotics to control and coordinate the actions of robots in manufacturing, logistics, and other industries.\\n\\n2. Healthcare: AI agents are used in healthcare to assist in diagnosis, treatment planning, and patient care management.\\n\\n3. Finance: AI agents are used in finance to analyze market trends, predict stock prices, and manage portfolios.\\n\\n4. Transportation: AI agents are used in transportation to control autonomous vehicles, manage traffic flow, and optimize logistics routes.\\n\\n5. Customer Service: AI agents are used in customer service to provide 24/7 support, answer queries, and resolve issues.\\n\\nV. Challenges and Limitations of AI Agents\\n\\nWhile AI agents have many potential benefits, they also face several challenges and limitations:\\n\\n1. Complexity: Developing sophisticated AI agents requires significant computational resources and complex algorithms.\\n\\n2. Trust: Building trust between humans and AI agents is crucial but challenging, especially in high-stakes applications like healthcare and finance.\\n\\n3. Ethics: AI agents must be programmed with ethical guidelines to ensure they act in the best interests of humans and society.\\n\\n4. Security: AI agents can be vulnerable to cyber attacks and data breaches, which can compromise their integrity and effectiveness.\\n\\nVI. Conclusion\\n\\nIn conclusion, AI agents are powerful tools that can automate complex tasks, make decisions, and interact with their environment. They have numerous applications across various fields and can significantly improve efficiency, productivity, and outcomes. However, they also face challenges and limitations that must be addressed to ensure their safe and effective deployment.'}}\n",
      "{'Exploration Blueprint': {'content': ['An artificial intelligence (AI) agent is a software program that can interact with its environment, collect data, and use the data to perform self-determined tasks to meet predetermined goals. Humans set goals, but an AI agent independently chooses the best actions it needs to perform to achieve those goals. For example, consider a contact ...', 'An AI agent incorporating knowledge and feedback from other AI agents specializing in related areas can be useful for information synthesis. This backend collaboration of AI agents and the ability to fill information gaps are unique to agentic frameworks, making them a powerful tool and a meaningful advancement in artificial intelligence.', 'AI agents work by simplifying and automating complex tasks. Most autonomous agents follow a specific workflow when performing assigned tasks. Determine goals. The AI agent receives a specific instruction or goal from the user. It uses the goal to plan tasks that make the final outcome relevant and useful to the user.', 'AI Agents are autonomous entities that use artificial intelligence (AI) to perceive their environment, make decisions, and perform actions to achieve specific goals. These agents can operate…', \"What are examples of open source AI agents? While there are plenty of new proprietary AI agents arriving on the market, there are also numerous examples of open source AI agent projects on GitHub: AutoGPT, which seeks to make OpenAI's GPT-4 generative AI model fully autonomous. Clippy, which helps developers plan, write, debug, and test code.\", 'An AI agent is something that perceives its environment through sensors and that can do action regarding rules, data and algorithms. A simple example is a thermostat that regulate the heating to ...', 'May 31, 2024 · An AI agent is a software that performs tasks on behalf of a user. They can automate processes, make decisions, and intelligently interact\\xa0...', 'AI agents are autonomous intelligent systems performing specific tasks without human intervention. Organizations use AI agents to achieve specific goals and\\xa0...', 'Evolutionary computing can evolve intelligent agents that appear to act in ways intended to maximize a \"fitness function\" that influences how many descendants each agent is allowed to leave.[4]\\nThe theoretical and uncomputable AIXI design is a maximally intelligent agent in this paradigm;[18] however, in the real world, the IA is constrained by finite time and hardware resources, and scientists compete to produce algorithms that can achieve progressively higher scores on benchmark tests with real-world hardware.[19][relevant?]\\nClasses of intelligent agents[edit]\\nRussel and Norvig\\'s classification[edit]\\nRussell & Norvig (2003) group agents into five classes based on their degree of perceived intelligence and capability:[20]\\nSimple reflex agents act only on the basis of the current percept, ignoring the rest of the percept history. A simple agent program can be defined mathematically as a function f (called the \"agent function\")[25] which maps every possible percepts sequence to a possible action the agent can perform or to a coefficient, feedback element, function or constant that affects eventual actions:\\nAgent function is an abstract concept as it could incorporate various principles of decision making like calculation of utility of individual options, deduction over logic rules, fuzzy logic, etc.[26]\\nThe program agent, instead, maps every possible percept to an action.[27]\\nWe use the term percept to refer to the agent\\'s perceptional inputs at any given instant. The basic idea of using agent-based modeling to understand self-driving cars was discussed as early as 2003.[31]\\nAlternative definitions and uses[edit]\\n\"Intelligent agent\" is also often used as a vague marketing term, sometimes synonymous with \"virtual personal assistant\".[32] Some 20th-century definitions characterize an agent as a program that aids a user or that acts on behalf of a user.[33] These examples are known as software agents, and sometimes an \"intelligent software agent\" (that is, a software agent with intelligence) is referred to as an \"intelligent agent\".\\n An intelligent agent may be simple or complex: A thermostat or other control system is considered an example of an intelligent agent, as is a human being, as is any system that meets the definition, such as a firm, a state, or a biome.[1]\\nLeading AI textbooks define \"artificial intelligence\" as the \"study and design of intelligent agents\", a definition that considers goal-directed behavior to be the essence of intelligence. For example, a reinforcement learning agent has a \"reward function\" that allows the programmers to shape the IA\\'s desired behavior,[3] and an evolutionary algorithm\\'s behavior is shaped by a \"fitness function\".[4]\\nIntelligent agents in artificial intelligence are closely related to agents in economics, and versions of the intelligent agent paradigm are studied in cognitive science, ethics, the philosophy of practical reason, as well as in many interdisciplinary socio-cognitive modeling and computer social simulations.\\n', 'An AI agent incorporating knowledge and feedback from other AI agents specializing in related areas can be useful for information synthesis. This backend collaboration of AI agents and the ability to fill information gaps are unique to agentic frameworks, making them a powerful tool and a meaningful advancement in artificial intelligence.', 'How does an AI Agent work? AI Agents operate similarly to popular AI solutions present on the market, namely they require users to input an objective, after which the AI Agent initiates its ...', 'AI agents work by simplifying and automating complex tasks. Most autonomous agents follow a specific workflow when performing assigned tasks. Determine goals. The AI agent receives a specific instruction or goal from the user. It uses the goal to plan tasks that make the final outcome relevant and useful to the user.']}}\n"
     ]
    },
    {
     "name": "stdout",
     "output_type": "stream",
     "text": [
      "{'Creative Forge': {'draft': 'An AI agent is a computer program that acts on behalf of a user or other program to achieve a specific goal. It is designed to perceive its environment and take actions that maximize the probability of success. An AI agent has several key characteristics, including autonomy, perception, reasoning, and action.\\n\\nThere are several types of AI agents, each with different capabilities and applications. These include simple reflex agents, model-based reflex agents, goal-based agents, utility-based agents, and learning agents. Each type of agent is suited for different tasks, such as controlling thermostats, autonomous vehicles, scheduling software, financial forecasting models, and recommendation systems.\\n\\nAI agents have numerous applications across various fields, including robotics, healthcare, finance, transportation, and customer service. They can assist in diagnosis, treatment planning, and patient care management in healthcare; analyze market trends, predict stock prices, and manage portfolios in finance; control autonomous vehicles, manage traffic flow, and optimize logistics routes in transportation; and provide 24/7 support, answer queries, and resolve issues in customer service.\\n\\nHowever, AI agents also face several challenges and limitations. Developing sophisticated AI agents requires significant computational resources and complex algorithms. Building trust between humans and AI agents is crucial but challenging, especially in high-stakes applications like healthcare and finance. AI agents must be programmed with ethical guidelines to ensure they act in the best interests of humans and society. Additionally, AI agents can be vulnerable to cyber attacks and data breaches, which can compromise their integrity and effectiveness.\\n\\nIn conclusion, AI agents are powerful tools that can automate complex tasks, make decisions, and interact with their environment. They have numerous applications across various fields and can significantly improve efficiency, productivity, and outcomes. However, they also face challenges and limitations that must be addressed to ensure their safe and effective deployment.', 'revision_number': 2}}\n",
      "{'Introspective Lens': {'critique': 'The content provides a comprehensive overview of AI agents, their characteristics, types, applications, and challenges. However, there are several areas that could be improved for better clarity and engagement.\\n\\n1. Introduction: The introduction is brief and lacks a clear thesis statement. It would be beneficial to introduce the main topic more clearly and provide a brief overview of what the reader can expect from the article.\\n\\n2. Types of AI Agents: While the article mentions different types of AI agents, it would be helpful to provide more detailed descriptions or examples for each type. This would help readers understand the unique capabilities and applications of each type of agent.\\n\\n3. Applications: The article touches on various fields where AI agents are applied, but it could delve deeper into specific examples or case studies within those fields. Providing concrete examples would make the information more relatable and interesting to readers.\\n\\n4. Challenges and Limitations: The section discussing challenges and limitations is quite brief. Expanding this section by providing more detailed explanations or real-life examples would add depth to the content and give readers a better understanding of the complexities involved in developing and deploying AI agents.\\n\\n5. Conclusion: The conclusion is concise but lacks a strong summary statement that ties together the key points discussed throughout the article. A more robust conclusion could reiterate the importance of AI agents, highlight their potential benefits, and emphasize the need to address the challenges and limitations mentioned earlier.\\n\\n6. Style and Structure: The content is written in a formal style, which is appropriate for an academic or professional audience. However, incorporating more varied sentence structures and using active voice instead of passive voice could enhance readability and engagement. Additionally, breaking up long paragraphs into shorter ones would improve the overall structure of the content.\\n\\n7. Clarity: Some terms and concepts may be unfamiliar to non-experts in the field of artificial intelligence. Including definitions or explanations for these terms would make the content more accessible to a wider audience.\\n\\n8. Depth: While the content covers a range of topics related to AI agents, it does not delve deeply into any one area. To increase the depth of the content, consider focusing on a specific aspect of AI agents, such as their development, ethical considerations, or future prospects.\\n\\n9. Engagement: The content is informative but lacks engaging elements like anecdotes, real-life examples, or thought-provoking questions. Incorporating these elements could make the content more engaging and encourage readers to think critically about the role of AI agents in society.\\n\\n10. Audience: The content seems to be targeted towards an audience with some basic knowledge of artificial intelligence. However, it could be beneficial to specify the intended audience more clearly and tailor the content accordingly. For instance, if the target audience is beginners, more introductory information about AI might be necessary. If the target audience is professionals, more technical details and advanced concepts could be explored.'}}\n",
      "{'Critical Insight Review': {'content': ['An artificial intelligence (AI) agent is a software program that can interact with its environment, collect data, and use the data to perform self-determined tasks to meet predetermined goals. Humans set goals, but an AI agent independently chooses the best actions it needs to perform to achieve those goals. For example, consider a contact ...', 'An AI agent incorporating knowledge and feedback from other AI agents specializing in related areas can be useful for information synthesis. This backend collaboration of AI agents and the ability to fill information gaps are unique to agentic frameworks, making them a powerful tool and a meaningful advancement in artificial intelligence.', 'AI agents work by simplifying and automating complex tasks. Most autonomous agents follow a specific workflow when performing assigned tasks. Determine goals. The AI agent receives a specific instruction or goal from the user. It uses the goal to plan tasks that make the final outcome relevant and useful to the user.', 'AI Agents are autonomous entities that use artificial intelligence (AI) to perceive their environment, make decisions, and perform actions to achieve specific goals. These agents can operate…', \"What are examples of open source AI agents? While there are plenty of new proprietary AI agents arriving on the market, there are also numerous examples of open source AI agent projects on GitHub: AutoGPT, which seeks to make OpenAI's GPT-4 generative AI model fully autonomous. Clippy, which helps developers plan, write, debug, and test code.\", 'An AI agent is something that perceives its environment through sensors and that can do action regarding rules, data and algorithms. A simple example is a thermostat that regulate the heating to ...', 'May 31, 2024 · An AI agent is a software that performs tasks on behalf of a user. They can automate processes, make decisions, and intelligently interact\\xa0...', 'AI agents are autonomous intelligent systems performing specific tasks without human intervention. Organizations use AI agents to achieve specific goals and\\xa0...', 'Evolutionary computing can evolve intelligent agents that appear to act in ways intended to maximize a \"fitness function\" that influences how many descendants each agent is allowed to leave.[4]\\nThe theoretical and uncomputable AIXI design is a maximally intelligent agent in this paradigm;[18] however, in the real world, the IA is constrained by finite time and hardware resources, and scientists compete to produce algorithms that can achieve progressively higher scores on benchmark tests with real-world hardware.[19][relevant?]\\nClasses of intelligent agents[edit]\\nRussel and Norvig\\'s classification[edit]\\nRussell & Norvig (2003) group agents into five classes based on their degree of perceived intelligence and capability:[20]\\nSimple reflex agents act only on the basis of the current percept, ignoring the rest of the percept history. A simple agent program can be defined mathematically as a function f (called the \"agent function\")[25] which maps every possible percepts sequence to a possible action the agent can perform or to a coefficient, feedback element, function or constant that affects eventual actions:\\nAgent function is an abstract concept as it could incorporate various principles of decision making like calculation of utility of individual options, deduction over logic rules, fuzzy logic, etc.[26]\\nThe program agent, instead, maps every possible percept to an action.[27]\\nWe use the term percept to refer to the agent\\'s perceptional inputs at any given instant. The basic idea of using agent-based modeling to understand self-driving cars was discussed as early as 2003.[31]\\nAlternative definitions and uses[edit]\\n\"Intelligent agent\" is also often used as a vague marketing term, sometimes synonymous with \"virtual personal assistant\".[32] Some 20th-century definitions characterize an agent as a program that aids a user or that acts on behalf of a user.[33] These examples are known as software agents, and sometimes an \"intelligent software agent\" (that is, a software agent with intelligence) is referred to as an \"intelligent agent\".\\n An intelligent agent may be simple or complex: A thermostat or other control system is considered an example of an intelligent agent, as is a human being, as is any system that meets the definition, such as a firm, a state, or a biome.[1]\\nLeading AI textbooks define \"artificial intelligence\" as the \"study and design of intelligent agents\", a definition that considers goal-directed behavior to be the essence of intelligence. For example, a reinforcement learning agent has a \"reward function\" that allows the programmers to shape the IA\\'s desired behavior,[3] and an evolutionary algorithm\\'s behavior is shaped by a \"fitness function\".[4]\\nIntelligent agents in artificial intelligence are closely related to agents in economics, and versions of the intelligent agent paradigm are studied in cognitive science, ethics, the philosophy of practical reason, as well as in many interdisciplinary socio-cognitive modeling and computer social simulations.\\n', 'An AI agent incorporating knowledge and feedback from other AI agents specializing in related areas can be useful for information synthesis. This backend collaboration of AI agents and the ability to fill information gaps are unique to agentic frameworks, making them a powerful tool and a meaningful advancement in artificial intelligence.', 'How does an AI Agent work? AI Agents operate similarly to popular AI solutions present on the market, namely they require users to input an objective, after which the AI Agent initiates its ...', 'AI agents work by simplifying and automating complex tasks. Most autonomous agents follow a specific workflow when performing assigned tasks. Determine goals. The AI agent receives a specific instruction or goal from the user. It uses the goal to plan tasks that make the final outcome relevant and useful to the user.', 'With WriteGo, creating a compelling thesis statement has never been easier. This article will guide you through the process and introduce you to WriteGo, our innovative AI-powered writing tool designed to enhance your academic writing experience. Understanding the Thesis Statement. A thesis statement is a concise summary of the main point or ...', 'Types of thesis statements\\nYour thesis statement should match the goals of your essay, which vary depending on the type of essay you’re writing:\\nOther interesting articles\\nIf you want to know more about AI tools, college essays, or fallacies make sure to check out some of our other articles with explanations and examples or go directly to our tools!\\nFallacies\\nCollege essays\\n(AI) Tools\\nFrequently asked questions about thesis statements\\nA thesis statement is a sentence that sums up the central point of your paper or essay. Have a language expert improve your writing\\nRun a free plagiarism check in 10 minutes\\nGenerate accurate citations for free\\nEssay\\nInteresting topics\\nProofreading & Editing\\nHave a human editor polish your writing to ensure your arguments are judged on merit, not grammar errors.\\n Get expert writing help\\nAI Proofreader\\nFix all your grammar, spelling and punctuation mistakes in minutes, no matter the size of your document\\nTry it today\\nPlagiarism Checker\\nCompare your paper to billions of pages and articles with Scribbr’s Turnitin-powered plagiarism checker.\\n The best thesis statements are:\\nA faster, more affordable way to improve your paper\\nScribbr’s new AI Proofreader checks your document and corrects spelling, grammar, and punctuation mistakes with near-human accuracy and the efficiency of AI!\\n Step 4: Refine your thesis statement\\nA strong thesis statement should tell the reader:\\nThe final thesis statement doesn’t just state your position, but summarizes your overall argument or the entire topic you’re going to explain.', \"Types of AI Agents. AI agents come in various forms, each designed to address different challenges and levels of complexity. Here's a quick overview of the main types of AI agents and how they function. Simple reflex agents. A simple reflex agent is designed to respond to specific stimuli with predefined actions. They operate on a ...\", 'The application of these AI agent types across different industries underscores their transformative potential. Manufacturing, healthcare, and financial services are just a few examples of how AI agents are being utilized to optimize operations, enhance customer experiences, and improve decision-making processes.', 'See top AI agent use cases and their real-life applications: AI agents as developers. AI agents as human-like gaming characters. AI agents as writers. AI agents as insurance assistants. AI agents as human resources (HR) assistants. AI agent in retail and e-commerce. AI agents as research assistants. AI agent building.', 'The roles of AI agents are multifaceted and pivotal across numerous sectors and operations. In customer support, AI agents are employed as chatbots and virtual assistants, designed to offer instant responses and round-the-clock availability, hence enhancing customer experience and operational efficiency. In the realm of health care, these ...', 'Challenges and Limitations of AI Agents. While AI agents offer many benefits, they also come with notable challenges and limitations: Multiagent dependencies: Certain complex tasks necessitate the collaboration of multiple AI agents. However, implementing these multi-agent frameworks carries the risk of malfunctions. Systems built on the same ...', 'Artificial Intelligence (AI) agents have become integral to many facets of technology and industry, offering a diverse range of capabilities and applications. ... developing these AI agents presents numerous challenges, including technical limitations and ethical considerations. This comprehensive guide aims to provide an extensive overview of ...', 'Let our AI craft a powerful conclusion that summarizes your points and leaves a lasting impression. 04. Review and Use. Review the generated conclusion, make any necessary adjustments, and incorporate it into your content. ... End your articles with strong conclusions that summarize key points and encourage further engagement or action.', \"AI Conclusion Generator. Crafting the perfect conclusion for any piece of writing, whether it's an academic paper, a blog post, or a business report, can often be the most challenging part. ... Whether you're a student looking to wrap up an essay, a writer aiming to end an article on a strong note, or a professional finalizing a report ...\", \"Below, we've put together some tried-and-true tips to improve the readability of your work so you can use the full power of the written word to your advantage and successfully engage with your readers. Readability refers to how easily readers can understand a text. Regardless of the target audience, you should always try to convey the purpose ...\", \"Academic writing can often be dense and difficult to read, but it doesn't have to be. Ensuring your work is clear and readable can significantly improve its effectiveness and impact. Whether you're drafting a research paper, a thesis, or an essay, readability is key to communicating your ideas effectively.\", \"Making technical content appealing to a wider audience is an art. It's about simplifying complexity: 📚🚀 1️⃣ Simple Language: Avoid jargon and acronyms. Write in plain, accessible ...\", \"Here are some tips we've learned about how to communicate technical content to a wide audience: Avoid jargon whenever possible. Define any technical terms that are used.\", 'This paper aims to explore an in-depth study on multi-aspect rule-based AI modeling, where we take into account both the knowledge-driven approaches, i.e., based on human domain knowledge and expertise, and data-driven approaches, i.e., discovering useful knowledge or insights from data, as well as their hybridization for effective CI security ...', 'Keywords: AI in content generation, AI Am plification Dilemma, content volume vs. depth, human-AI c ollaboration, content quality, AI democratization, content consumption, AI- driven narrative,', '5 Add visual elements. The fifth step to creating engaging and informative content is to add visual elements. Visual elements like images, videos, infographics, charts, and graphs can enhance your ...', \"Quizzes and Polls. Engage your audience effectively by incorporating interactive quizzes and polls into your content strategy. By integrating these interactive elements, you can create a more engaging and memorable experience for your users. Quizzes are a great way to test your audience's knowledge on a specific topic while polls allow them to ...\", 'Table Of Contents: 8 Ways In Tailoring Messages to Different Audience Segments. 1. Understand the Concept of Audience Segmentation. The Importance of Audience Segmentation. Types of Audience Segmentation. 2. Identify Your Target Audiences. Conducting an Audience Analysis.', 'Understanding the Concept of Target Audience. A target audience is a specific group characterized by behavior and specific demographics, which is narrower than the target market representing the general consumer base a company aims to sell to. Identifying different target audiences is crucial for enhancing customer acquisition, developing ...']}}\n"
     ]
    },
    {
     "name": "stdout",
     "output_type": "stream",
     "text": [
      "{'Creative Forge': {'draft': 'A. Introduction\\n\\nB. Definition and Characteristics of an AI Agent\\n\\nC. Types of AI Agents\\n\\nD. Applications of AI Agents\\n\\nE. Challenges and Limitations of AI Agents\\n\\nF. Conclusion', 'revision_number': 3}}\n"
     ]
    }
   ],
   "source": [
    "thread = {\"configurable\": {\"thread_id\": \"1\"}}\n",
    "for s in graph.stream({\n",
    "    'task': \"What is AI Agent?\",\n",
    "    \"max_revisions\": 2,\n",
    "    \"revision_number\": 1,\n",
    "}, thread):\n",
    "    print(s)"
   ]
  },
  {
   "cell_type": "code",
   "execution_count": null,
   "id": "14fa923c-7e4f-42d1-965f-0f8ccd50fbd7",
   "metadata": {
    "height": 30
   },
   "outputs": [],
   "source": []
  },
  {
   "cell_type": "code",
   "execution_count": null,
   "id": "c4feb6cc-5129-4a99-bb45-851bc07b5709",
   "metadata": {
    "height": 30
   },
   "outputs": [],
   "source": []
  },
  {
   "cell_type": "code",
   "execution_count": null,
   "id": "e85a02b4-96cc-4b01-8792-397a774eb499",
   "metadata": {
    "height": 30
   },
   "outputs": [],
   "source": []
  },
  {
   "cell_type": "code",
   "execution_count": null,
   "id": "ae8b86a6-5e20-4252-b1d8-009b8318345a",
   "metadata": {
    "height": 30
   },
   "outputs": [],
   "source": []
  },
  {
   "cell_type": "code",
   "execution_count": null,
   "id": "af925917-b746-48c9-ac74-62fefbe5246c",
   "metadata": {
    "height": 30
   },
   "outputs": [],
   "source": []
  },
  {
   "cell_type": "code",
   "execution_count": null,
   "id": "d5048f2c-4d82-49a5-9cb1-918d78b39f7b",
   "metadata": {
    "height": 30
   },
   "outputs": [],
   "source": []
  },
  {
   "cell_type": "code",
   "execution_count": null,
   "id": "393f7f1f-68b4-4462-bfa5-b6472ef1304a",
   "metadata": {
    "height": 30
   },
   "outputs": [],
   "source": []
  },
  {
   "cell_type": "code",
   "execution_count": null,
   "id": "43ac0aa9-baa7-4b58-889d-2118cc00c6b5",
   "metadata": {
    "height": 30
   },
   "outputs": [],
   "source": []
  },
  {
   "cell_type": "code",
   "execution_count": null,
   "id": "ed6098b9-e2a9-4767-8cb5-346db835c8d2",
   "metadata": {
    "height": 30
   },
   "outputs": [],
   "source": []
  },
  {
   "cell_type": "code",
   "execution_count": null,
   "id": "2d23cf2a-a179-44dc-9ae3-2eddda4b67b4",
   "metadata": {
    "height": 30
   },
   "outputs": [],
   "source": []
  },
  {
   "cell_type": "code",
   "execution_count": null,
   "id": "14a6005b-0221-4f5e-9be0-0580c1d03126",
   "metadata": {
    "height": 30
   },
   "outputs": [],
   "source": []
  },
  {
   "cell_type": "code",
   "execution_count": null,
   "id": "41c1ec12-f1c8-41ae-bb3e-5f28997b9b99",
   "metadata": {
    "height": 30
   },
   "outputs": [],
   "source": []
  },
  {
   "cell_type": "code",
   "execution_count": null,
   "id": "5c8c07d7-be17-4c17-82c5-6fe1db028b8b",
   "metadata": {
    "height": 30
   },
   "outputs": [],
   "source": []
  },
  {
   "cell_type": "code",
   "execution_count": null,
   "id": "04592c8e-1cfe-4b26-93b5-caf1ed1e7d24",
   "metadata": {
    "height": 30
   },
   "outputs": [],
   "source": []
  },
  {
   "cell_type": "code",
   "execution_count": null,
   "id": "6181c4a9-0e71-4f67-b71f-18a225e37202",
   "metadata": {
    "height": 30
   },
   "outputs": [],
   "source": []
  },
  {
   "cell_type": "code",
   "execution_count": null,
   "id": "e1c478a9-7bfe-49e2-8a7d-1536271f45a6",
   "metadata": {
    "height": 30
   },
   "outputs": [],
   "source": []
  },
  {
   "cell_type": "code",
   "execution_count": null,
   "id": "0a6d6771-3fad-4f37-9b32-45b36ad85c59",
   "metadata": {
    "height": 30
   },
   "outputs": [],
   "source": []
  },
  {
   "cell_type": "code",
   "execution_count": null,
   "id": "a3629eb3-655d-467a-b413-63f547c2de08",
   "metadata": {
    "height": 30
   },
   "outputs": [],
   "source": []
  },
  {
   "cell_type": "code",
   "execution_count": null,
   "id": "f772f251-2b61-4d10-97c5-61cef9207a76",
   "metadata": {
    "height": 30
   },
   "outputs": [],
   "source": []
  },
  {
   "cell_type": "code",
   "execution_count": null,
   "id": "0de92979-7ac5-4a7c-91c1-10806b7d529c",
   "metadata": {
    "height": 30
   },
   "outputs": [],
   "source": []
  },
  {
   "cell_type": "code",
   "execution_count": null,
   "id": "479c4325-f625-4bbf-9d74-cc58f10763f2",
   "metadata": {
    "height": 30
   },
   "outputs": [],
   "source": []
  },
  {
   "cell_type": "code",
   "execution_count": null,
   "id": "c4070be7-72da-42f9-a25d-8a6c628788b8",
   "metadata": {
    "height": 30
   },
   "outputs": [],
   "source": []
  },
  {
   "cell_type": "code",
   "execution_count": null,
   "id": "9289efbe-7033-4f32-8482-2039c5f9db90",
   "metadata": {
    "height": 30
   },
   "outputs": [],
   "source": []
  },
  {
   "cell_type": "code",
   "execution_count": null,
   "id": "25e480bb-22ab-4acb-a42c-71da3d04a5b1",
   "metadata": {
    "height": 30
   },
   "outputs": [],
   "source": []
  },
  {
   "cell_type": "code",
   "execution_count": null,
   "id": "90dea35c-7483-4b3d-b5e3-76eb3a0fe536",
   "metadata": {
    "height": 30
   },
   "outputs": [],
   "source": []
  },
  {
   "cell_type": "code",
   "execution_count": null,
   "id": "e9ac5730-a9d5-4ea4-8546-ebcb265cf1da",
   "metadata": {
    "height": 30
   },
   "outputs": [],
   "source": []
  },
  {
   "cell_type": "code",
   "execution_count": null,
   "id": "96e1f28b-46d8-4bcd-b2e4-730376ee7ccf",
   "metadata": {
    "height": 30
   },
   "outputs": [],
   "source": []
  },
  {
   "cell_type": "code",
   "execution_count": null,
   "id": "22ac7020-b4f4-4bd2-a875-ccee93f83d83",
   "metadata": {
    "height": 30
   },
   "outputs": [],
   "source": []
  },
  {
   "cell_type": "code",
   "execution_count": null,
   "id": "61f79eb9-d1c9-44b0-9efd-a8f9b380332a",
   "metadata": {
    "height": 30
   },
   "outputs": [],
   "source": []
  },
  {
   "cell_type": "code",
   "execution_count": null,
   "id": "ce509206-bde1-43e4-a88f-8a565539d357",
   "metadata": {
    "height": 30
   },
   "outputs": [],
   "source": []
  },
  {
   "cell_type": "code",
   "execution_count": null,
   "id": "bdba1590-9e7b-4c0f-9492-81a07d286c55",
   "metadata": {
    "height": 30
   },
   "outputs": [],
   "source": []
  },
  {
   "cell_type": "code",
   "execution_count": null,
   "id": "aa8fe4a8-5372-479d-b248-af7a295c86c1",
   "metadata": {
    "height": 30
   },
   "outputs": [],
   "source": []
  },
  {
   "cell_type": "code",
   "execution_count": null,
   "id": "7514720a-14bc-4552-ade5-fa03f86f4c73",
   "metadata": {
    "height": 30
   },
   "outputs": [],
   "source": []
  }
 ],
 "metadata": {
  "kernelspec": {
   "display_name": "Python 3 (ipykernel)",
   "language": "python",
   "name": "python3"
  },
  "language_info": {
   "codemirror_mode": {
    "name": "ipython",
    "version": 3
   },
   "file_extension": ".py",
   "mimetype": "text/x-python",
   "name": "python",
   "nbconvert_exporter": "python",
   "pygments_lexer": "ipython3",
   "version": "3.11.9"
  }
 },
 "nbformat": 4,
 "nbformat_minor": 5
}
